{
  "nbformat": 4,
  "nbformat_minor": 0,
  "metadata": {
    "kernelspec": {
      "display_name": "Python 3",
      "language": "python",
      "name": "python3"
    },
    "language_info": {
      "codemirror_mode": {
        "name": "ipython",
        "version": 3
      },
      "file_extension": ".py",
      "mimetype": "text/x-python",
      "name": "python",
      "nbconvert_exporter": "python",
      "pygments_lexer": "ipython3",
      "version": "3.6.8"
    },
    "colab": {
      "name": "DATA 301 Lab 5 - Andrew Lobsang",
      "provenance": [],
      "collapsed_sections": []
    }
  },
  "cells": [
    {
      "cell_type": "markdown",
      "metadata": {
        "id": "iG3X1KFIBLUK"
      },
      "source": [
        "# Authorship of the Federalist Papers\n",
        "\n",
        "The _Federalist Papers_ were a set of 85 essays published between 1787 and 1788 to promote the ratification of the United States Constitution. They were originally published under the pseudonym \"Publius\". Although the identity of the authors was a closely guarded secret at the time, most of the papers have since been conclusively attributed to one of Hamilton, Jay, or Madison. The known authorships can be found in `https://dlsun.github.io/pods/data/federalist/authorship.csv`.\n",
        "\n",
        "For 15 of the papers, however, the authorships remain disputed. (These papers can be identified from the `authorship.csv` file because the \"Author\" field is blank.) In this analysis, you will use the papers with known authorship to predict the authorships of the disputed papers. The text of each paper is available at `https://dlsun.github.io/pods/data/federalist/x.txt`, where `x` is the number of the paper (i.e., a number from 1 to 85). The name of the file indicates the number of the paper."
      ]
    },
    {
      "cell_type": "markdown",
      "metadata": {
        "id": "8YRe6SB3BLUN"
      },
      "source": [
        "## Question 1\n",
        "\n",
        "When analyzing an author's style, common words like \"the\" and \"on\" are actually more useful than rare words like \"hostilities\". That is because rare words typically signify context. Context is useful if you are trying to find documents about similar topics, but not so useful if you are trying to identify an author's style because different authors can write about the same topic. For example, both Dr. Seuss and Charles Dickens used rare words like \"chimney\" and \"stockings\" in _How the Grinch Stole Christmas_ and _A Christmas Carol_, respectively. But they used common words very differently: Dickens used the word \"upon\" over 100 times, while Dr. Seuss did not use \"upon\" even once.\n",
        "\n",
        "Read in the Federalist Papers. Convert each one into a vector of term frequencies. In order to restrict to common words, include only the top 50 words across the corpus. (Because we are restricting to the most common words already, there is no reason to reweight them using TF-IDF.)"
      ]
    },
    {
      "cell_type": "code",
      "source": [
        "import pandas as pd\n",
        "import numpy as np\n",
        "import requests\n",
        "\n",
        "papers_dir = \"https://dlsun.github.io/pods/data/federalist/\"\n",
        "papers_txt = \".txt\"\n",
        "papers_files = list(range(1,86))\n",
        "df_papers = pd.read_csv(\"https://dlsun.github.io/pods/data/federalist/authorship.csv\")\n",
        "\n",
        "docs_papers = pd.Series()\n",
        "for file in papers_files:\n",
        "    response = requests.get(papers_dir + str(file) + papers_txt, \"r\")\n",
        "    docs_papers[str(file)] = response.text"
      ],
      "metadata": {
        "colab": {
          "base_uri": "https://localhost:8080/"
        },
        "id": "B1WCy-bmrGqh",
        "outputId": "c5b6fbad-eccf-4c3c-b695-7501d7001b78"
      },
      "execution_count": 1,
      "outputs": [
        {
          "output_type": "stream",
          "name": "stderr",
          "text": [
            "/usr/local/lib/python3.7/dist-packages/ipykernel_launcher.py:10: DeprecationWarning: The default dtype for empty Series will be 'object' instead of 'float64' in a future version. Specify a dtype explicitly to silence this warning.\n",
            "  # Remove the CWD from sys.path while we load stuff.\n"
          ]
        }
      ]
    },
    {
      "cell_type": "code",
      "source": [
        "from collections import Counter\n",
        "bag_of_words = (\n",
        "    docs_papers.\n",
        "    str.lower().\n",
        "    str.replace(\"[^\\w\\s]\", \" \").\n",
        "    str.split()\n",
        ").apply(Counter)\n",
        "\n",
        "common_words = pd.DataFrame(Counter(docs_papers.dropna().str.lower().str.replace(\"[^\\w\\s]\", \" \").str.cat().split()).most_common(50))[0]\n",
        "bag_of_words\n",
        "tf = df_papers.join(pd.DataFrame(list(bag_of_words))[common_words].fillna(0))"
      ],
      "metadata": {
        "colab": {
          "base_uri": "https://localhost:8080/"
        },
        "id": "7Q4M1Foys7YS",
        "outputId": "4f0c3149-6bd8-49cb-9b85-4a3010a5ce71"
      },
      "execution_count": 2,
      "outputs": [
        {
          "output_type": "stream",
          "name": "stderr",
          "text": [
            "/usr/local/lib/python3.7/dist-packages/ipykernel_launcher.py:5: FutureWarning: The default value of regex will change from True to False in a future version.\n",
            "  \"\"\"\n",
            "/usr/local/lib/python3.7/dist-packages/ipykernel_launcher.py:9: FutureWarning: The default value of regex will change from True to False in a future version.\n",
            "  if __name__ == '__main__':\n"
          ]
        }
      ]
    },
    {
      "cell_type": "markdown",
      "metadata": {
        "id": "bDLgJQtaHljA"
      },
      "source": [
        "## Question 2\n",
        "Make a visualization that summarizes the most common words used by Hamilton, Madison, and Jay."
      ]
    },
    {
      "cell_type": "code",
      "source": [
        "tf.groupby(\"Author\").mean()[[\"the\", \"of\", \"to\", \"and\", \"in\", \"a\", \"be\", \"that\", \"it\", \"is\"]].plot.bar()"
      ],
      "metadata": {
        "colab": {
          "base_uri": "https://localhost:8080/",
          "height": 332
        },
        "id": "OxP_ilHp6_vE",
        "outputId": "d503942f-4cf9-41e1-e7c0-04562ac93a75"
      },
      "execution_count": 3,
      "outputs": [
        {
          "output_type": "execute_result",
          "data": {
            "text/plain": [
              "<matplotlib.axes._subplots.AxesSubplot at 0x7f5cfe906790>"
            ]
          },
          "metadata": {},
          "execution_count": 3
        },
        {
          "output_type": "display_data",
          "data": {
            "image/png": "[encoded data removed]",
            "text/plain": [
              "<Figure size 432x288 with 1 Axes>"
            ]
          },
          "metadata": {
            "needs_background": "light"
          }
        }
      ]
    },
    {
      "cell_type": "markdown",
      "metadata": {
        "id": "fh0DzmKrBLUT"
      },
      "source": [
        "## Question 3\n",
        "\n",
        "For each of the documents with disputed authorships, find the 5 most similar documents with _known_ authorships, using cosine distance on the term frequencies. Use the authors of these 5 most similar documents to predict the author of each disputed document. (For example, if 3 of the 5 closest documents were written by Hamilton, 1 by Madison, and 1 by Jay, then we would predict that the disputed document was written by Hamilton.)"
      ]
    },
    {
      "cell_type": "code",
      "source": [
        "from sklearn.feature_extraction.text import TfidfVectorizer\n",
        "from sklearn.metrics.pairwise import cosine_similarity, cosine_distances\n",
        "\n",
        "author_isnull = tf.loc[tf[\"Author\"].isna()].index\n",
        "author_notnull = tf.loc[tf[\"Author\"].notnull()].index\n",
        "\n",
        "vec = TfidfVectorizer(norm=None)\n",
        "vec.fit(docs_papers)\n",
        "tf_idf_sparse = vec.transform(docs_papers)\n",
        "papers_sim = pd.DataFrame(cosine_similarity(tf_idf_sparse))\n",
        "\n",
        "for i in author_isnull:\n",
        "  nearest = papers_sim[i].iloc[author_notnull].sort_values(ascending = False).head(5).index\n",
        "  print(\"Paper \" + str(i + 1))\n",
        "  print(tf.iloc[nearest][\"Author\"].value_counts().head(1))"
      ],
      "metadata": {
        "colab": {
          "base_uri": "https://localhost:8080/"
        },
        "id": "JAczagG475qt",
        "outputId": "4378826b-29a3-4ed0-e530-3faaa23a777b"
      },
      "execution_count": 4,
      "outputs": [
        {
          "output_type": "stream",
          "name": "stdout",
          "text": [
            "Paper 18\n",
            "Madison    5\n",
            "Name: Author, dtype: int64\n",
            "Paper 19\n",
            "Madison    4\n",
            "Name: Author, dtype: int64\n",
            "Paper 20\n",
            "Madison    4\n",
            "Name: Author, dtype: int64\n",
            "Paper 49\n",
            "Madison    3\n",
            "Name: Author, dtype: int64\n",
            "Paper 50\n",
            "Madison    5\n",
            "Name: Author, dtype: int64\n",
            "Paper 51\n",
            "Madison    5\n",
            "Name: Author, dtype: int64\n",
            "Paper 52\n",
            "Madison    3\n",
            "Name: Author, dtype: int64\n",
            "Paper 53\n",
            "Hamilton    3\n",
            "Name: Author, dtype: int64\n",
            "Paper 54\n",
            "Hamilton    3\n",
            "Name: Author, dtype: int64\n",
            "Paper 55\n",
            "Hamilton    3\n",
            "Name: Author, dtype: int64\n",
            "Paper 56\n",
            "Madison    3\n",
            "Name: Author, dtype: int64\n",
            "Paper 57\n",
            "Madison    3\n",
            "Name: Author, dtype: int64\n",
            "Paper 58\n",
            "Madison    3\n",
            "Name: Author, dtype: int64\n",
            "Paper 62\n",
            "Hamilton    3\n",
            "Name: Author, dtype: int64\n",
            "Paper 63\n",
            "Madison    4\n",
            "Name: Author, dtype: int64\n"
          ]
        }
      ]
    },
    {
      "cell_type": "markdown",
      "metadata": {
        "id": "8Ng3BgkXBLUw"
      },
      "source": [
        "## Submission Instructions\n",
        "\n",
        "- Copy this notebook to your own Drive, if you have not already.\n",
        "- Restart this notebook and run the cells from beginning to end. \n",
        "  - Go to Runtime > Restart and Run All.\n",
        "- Rename this notebook by clicking on \"DATA 301 Lab 5 - YOUR NAMES HERE\" at the very top of this page. Replace \"YOUR NAMES HERE\" with the first and last names of you (and your partners, for Phase 2).\n",
        "- Get the link to your notebook:\n",
        "  - Click on \"Share\" at the top-right. \n",
        "  - Change the settings to \"Anyone with the link can view\". \n",
        "  - Copy the sharing link into Canvas."
      ]
    }
  ]
}